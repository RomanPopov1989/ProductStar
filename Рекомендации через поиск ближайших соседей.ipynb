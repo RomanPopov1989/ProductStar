{
 "cells": [
  {
   "cell_type": "markdown",
   "metadata": {},
   "source": [
    "# Рекомендательные системы. Рекомендации через поиск ближайших соседей"
   ]
  },
  {
   "cell_type": "markdown",
   "metadata": {},
   "source": [
    "> На этом практическом занятии мы с вами сделаем следующее:\n",
    "- Посмотри как работает FAISS.\n",
    "- Построим простейший сервис для рекомендаций используя FAISS."
   ]
  },
  {
   "cell_type": "markdown",
   "metadata": {},
   "source": [
    "## FAISS"
   ]
  },
  {
   "cell_type": "markdown",
   "metadata": {},
   "source": [
    "> Необходимо сперва установить faiss библиотеку. Инструкцию можно найти [здесь](https://github.com/facebookresearch/faiss/blob/master/INSTALL.md).\n",
    "```conda install faiss-cpu -c pytorch # CPU version only```"
   ]
  },
  {
   "cell_type": "code",
   "execution_count": 32,
   "metadata": {},
   "outputs": [],
   "source": [
    "import numpy as np"
   ]
  },
  {
   "cell_type": "code",
   "execution_count": 33,
   "metadata": {},
   "outputs": [],
   "source": [
    "dim = 512  # рассмотрим произвольные векторы размерности 512\n",
    "nb = 10000  # количество векторов в индексе\n",
    "nq = 1 # количество векторов в выборке для поиска\n",
    "np.random.seed(58) # DON't CHANGE THIS\n",
    "vectors = np.random.random((nb, dim)).astype('float32')\n",
    "query = np.random.random((nq, dim)).astype('float32')"
   ]
  },
  {
   "cell_type": "code",
   "execution_count": 34,
   "metadata": {},
   "outputs": [
    {
     "data": {
      "text/plain": [
       "(10000, 512)"
      ]
     },
     "execution_count": 34,
     "metadata": {},
     "output_type": "execute_result"
    }
   ],
   "source": [
    "vectors.shape"
   ]
  },
  {
   "cell_type": "code",
   "execution_count": 35,
   "metadata": {},
   "outputs": [
    {
     "data": {
      "text/plain": [
       "array([[0.36510557, 0.4512059 , 0.49606034, ..., 0.76589304, 0.00648978,\n",
       "        0.83173156],\n",
       "       [0.4488682 , 0.98864484, 0.9459802 , ..., 0.3300889 , 0.31562248,\n",
       "        0.37883386],\n",
       "       [0.85288   , 0.15087937, 0.48739725, ..., 0.4501739 , 0.6276719 ,\n",
       "        0.9150207 ],\n",
       "       ...,\n",
       "       [0.5569578 , 0.4969434 , 0.5190067 , ..., 0.04685995, 0.11529469,\n",
       "        0.6037052 ],\n",
       "       [0.9910725 , 0.42323965, 0.31499565, ..., 0.8129928 , 0.57980275,\n",
       "        0.84211975],\n",
       "       [0.33896688, 0.8154824 , 0.9685506 , ..., 0.32354274, 0.49578118,\n",
       "        0.55211055]], dtype=float32)"
      ]
     },
     "execution_count": 35,
     "metadata": {},
     "output_type": "execute_result"
    }
   ],
   "source": [
    "vectors"
   ]
  },
  {
   "cell_type": "markdown",
   "metadata": {},
   "source": [
    "### IndexFlatL2"
   ]
  },
  {
   "cell_type": "markdown",
   "metadata": {},
   "source": [
    "Создаем Flat индекс и добавляем векторы без обучения"
   ]
  },
  {
   "cell_type": "code",
   "execution_count": 36,
   "metadata": {},
   "outputs": [
    {
     "name": "stdout",
     "output_type": "stream",
     "text": [
      "Requirement already satisfied: faiss-cpu in c:\\users\\кыргыз\\appdata\\local\\programs\\python\\python311\\lib\\site-packages (1.7.4)\n"
     ]
    },
    {
     "name": "stderr",
     "output_type": "stream",
     "text": [
      "\n",
      "[notice] A new release of pip is available: 23.1.2 -> 23.2.1\n",
      "[notice] To update, run: python.exe -m pip install --upgrade pip\n"
     ]
    }
   ],
   "source": [
    "!pip install faiss-cpu"
   ]
  },
  {
   "cell_type": "code",
   "execution_count": 37,
   "metadata": {},
   "outputs": [],
   "source": [
    "import faiss # предварительно необходимо установить FAISS см. выше\n"
   ]
  },
  {
   "cell_type": "code",
   "execution_count": 38,
   "metadata": {},
   "outputs": [
    {
     "name": "stdout",
     "output_type": "stream",
     "text": [
      "10000\n"
     ]
    }
   ],
   "source": [
    "\n",
    "########################\n",
    "# YOUR CODE HERE\n",
    "########################\n",
    "index = faiss.IndexFlatL2(dim)\n",
    "index.add(vectors)\n",
    "print(index.ntotal)"
   ]
  },
  {
   "cell_type": "code",
   "execution_count": 39,
   "metadata": {},
   "outputs": [],
   "source": [
    "topn = 7"
   ]
  },
  {
   "cell_type": "markdown",
   "metadata": {},
   "source": [
    "Проведем поиск по нашим векторам из query:"
   ]
  },
  {
   "cell_type": "code",
   "execution_count": 40,
   "metadata": {},
   "outputs": [
    {
     "name": "stdout",
     "output_type": "stream",
     "text": [
      "[[3214 8794 9507 6591 8728 3959 5485]]\n",
      "[[70.102    70.75224  72.443085 72.87785  72.94414  73.42079  73.75675 ]]\n",
      "CPU times: total: 31.2 ms\n",
      "Wall time: 3 ms\n"
     ]
    }
   ],
   "source": [
    "%%time\n",
    "########################\n",
    "# YOUR CODE HERE\n",
    "########################\n",
    "D, I = index.search(query, topn)\n",
    "\n",
    "print(I)\n",
    "print(D)"
   ]
  },
  {
   "cell_type": "markdown",
   "metadata": {},
   "source": [
    "### Inverted File Index"
   ]
  },
  {
   "cell_type": "markdown",
   "metadata": {},
   "source": [
    "Необходмио создать quantiser(IndexFlatL2), индекс (IndexIVFFlat), обучить индекс и добавить вектора в индекс."
   ]
  },
  {
   "cell_type": "code",
   "execution_count": 41,
   "metadata": {},
   "outputs": [
    {
     "name": "stdout",
     "output_type": "stream",
     "text": [
      "CPU times: total: 422 ms\n",
      "Wall time: 71 ms\n"
     ]
    }
   ],
   "source": [
    "%%time\n",
    "k = 10 # количество центроидов\n",
    "########################\n",
    "# YOUR CODE HERE\n",
    "########################\n",
    "quantiser = faiss.IndexFlatL2(dim)\n",
    "index = faiss.IndexIVFFlat(quantiser, dim, k) \n",
    "index.train(vectors)\n",
    "index.add(vectors)"
   ]
  },
  {
   "cell_type": "markdown",
   "metadata": {},
   "source": [
    "Необходимо произвести поиск по индексу нашего запроса (query)."
   ]
  },
  {
   "cell_type": "code",
   "execution_count": 42,
   "metadata": {},
   "outputs": [
    {
     "name": "stdout",
     "output_type": "stream",
     "text": [
      "[[9507 5485 9530 8678 7046 5314 3492]]\n",
      "[[72.443085 73.75675  74.077194 74.209724 75.07445  75.194534 75.362595]]\n",
      "CPU times: total: 0 ns\n",
      "Wall time: 998 µs\n"
     ]
    }
   ],
   "source": [
    "%%time\n",
    "########################\n",
    "# YOUR CODE HERE\n",
    "########################\n",
    "D, I = index.search(query, topn)\n",
    "print(I)\n",
    "print(D)"
   ]
  },
  {
   "cell_type": "markdown",
   "metadata": {},
   "source": [
    "## Применим FAISS для рекомендаций в нашей задаче"
   ]
  },
  {
   "cell_type": "markdown",
   "metadata": {},
   "source": [
    "Построим простейший рекомендательный сервис."
   ]
  },
  {
   "cell_type": "code",
   "execution_count": 18,
   "metadata": {},
   "outputs": [
    {
     "name": "stdout",
     "output_type": "stream",
     "text": [
      "Collecting flask\n",
      "  Downloading flask-2.3.3-py3-none-any.whl (96 kB)\n",
      "                                              0.0/96.1 kB ? eta -:--:--\n",
      "     ------------                           30.7/96.1 kB 660.6 kB/s eta 0:00:01\n",
      "     ----------------------------           71.7/96.1 kB 660.6 kB/s eta 0:00:01\n",
      "     -------------------------------------- 96.1/96.1 kB 787.8 kB/s eta 0:00:00\n",
      "Collecting Werkzeug>=2.3.7 (from flask)\n",
      "  Downloading werkzeug-2.3.7-py3-none-any.whl (242 kB)\n",
      "                                              0.0/242.2 kB ? eta -:--:--\n",
      "     -----------------                      112.6/242.2 kB 6.8 MB/s eta 0:00:01\n",
      "     ------------------------------         194.6/242.2 kB 2.4 MB/s eta 0:00:01\n",
      "     -------------------------------------- 242.2/242.2 kB 2.5 MB/s eta 0:00:00\n",
      "Requirement already satisfied: Jinja2>=3.1.2 in c:\\users\\кыргыз\\appdata\\local\\programs\\python\\python311\\lib\\site-packages (from flask) (3.1.2)\n",
      "Collecting itsdangerous>=2.1.2 (from flask)\n",
      "  Downloading itsdangerous-2.1.2-py3-none-any.whl (15 kB)\n",
      "Collecting click>=8.1.3 (from flask)\n",
      "  Downloading click-8.1.7-py3-none-any.whl (97 kB)\n",
      "                                              0.0/97.9 kB ? eta -:--:--\n",
      "     ---------------------------------------- 97.9/97.9 kB 2.8 MB/s eta 0:00:00\n",
      "Collecting blinker>=1.6.2 (from flask)\n",
      "  Downloading blinker-1.6.2-py3-none-any.whl (13 kB)\n",
      "Requirement already satisfied: colorama in c:\\users\\кыргыз\\appdata\\local\\programs\\python\\python311\\lib\\site-packages (from click>=8.1.3->flask) (0.4.6)\n",
      "Requirement already satisfied: MarkupSafe>=2.0 in c:\\users\\кыргыз\\appdata\\local\\programs\\python\\python311\\lib\\site-packages (from Jinja2>=3.1.2->flask) (2.1.3)\n",
      "Installing collected packages: Werkzeug, itsdangerous, click, blinker, flask\n",
      "Successfully installed Werkzeug-2.3.7 blinker-1.6.2 click-8.1.7 flask-2.3.3 itsdangerous-2.1.2\n",
      "Note: you may need to restart the kernel to use updated packages.\n"
     ]
    },
    {
     "name": "stderr",
     "output_type": "stream",
     "text": [
      "\n",
      "[notice] A new release of pip is available: 23.1.2 -> 23.2.1\n",
      "[notice] To update, run: python.exe -m pip install --upgrade pip\n"
     ]
    }
   ],
   "source": [
    "pip install flask"
   ]
  },
  {
   "cell_type": "code",
   "execution_count": 43,
   "metadata": {},
   "outputs": [],
   "source": [
    "import faiss\n",
    "import numpy as np\n",
    "import pandas as pd\n",
    "from scipy.sparse import coo_matrix\n",
    "from sklearn.decomposition import NMF\n",
    "from flask import Flask, jsonify, request\n",
    "\n",
    "# constants\n",
    "RANDOM_STATE = 57\n",
    "N_FACTOR = 20 # размерность эмбедингов\n",
    "N_RESULT = 10 # сколько фильмов рекомендуем"
   ]
  },
  {
   "cell_type": "code",
   "execution_count": 44,
   "metadata": {},
   "outputs": [],
   "source": [
    "ratings = pd.read_csv(\"ratings.csv\")\n",
    "movies = pd.read_csv(\"movies.csv\")"
   ]
  },
  {
   "cell_type": "code",
   "execution_count": 45,
   "metadata": {},
   "outputs": [],
   "source": [
    "users = sorted(np.unique(ratings['userId']))\n",
    "movies = sorted(np.unique(ratings['movieId']))"
   ]
  },
  {
   "cell_type": "code",
   "execution_count": 46,
   "metadata": {},
   "outputs": [],
   "source": [
    "# for later use\n",
    "user_id2i = {id: i for i, id in enumerate(users)}\n",
    "movie_id2i = {id: i for i, id in enumerate(movies)}\n",
    "movie_i2id = {i: id for i, id in enumerate(movies)}"
   ]
  },
  {
   "cell_type": "code",
   "execution_count": 47,
   "metadata": {},
   "outputs": [],
   "source": [
    "# make sparse matrix\n",
    "rating_mat = coo_matrix(\n",
    "    (ratings['rating'], (ratings['userId'].map(user_id2i), ratings['movieId'].map(movie_id2i)))\n",
    ")"
   ]
  },
  {
   "cell_type": "code",
   "execution_count": 48,
   "metadata": {},
   "outputs": [
    {
     "data": {
      "text/plain": [
       "matrix([[4. , 0. , 4. , ..., 0. , 0. , 0. ],\n",
       "        [0. , 0. , 0. , ..., 0. , 0. , 0. ],\n",
       "        [0. , 0. , 0. , ..., 0. , 0. , 0. ],\n",
       "        ...,\n",
       "        [2.5, 2. , 2. , ..., 0. , 0. , 0. ],\n",
       "        [3. , 0. , 0. , ..., 0. , 0. , 0. ],\n",
       "        [5. , 0. , 0. , ..., 0. , 0. , 0. ]])"
      ]
     },
     "execution_count": 48,
     "metadata": {},
     "output_type": "execute_result"
    }
   ],
   "source": [
    "rating_mat.todense()"
   ]
  },
  {
   "cell_type": "code",
   "execution_count": 49,
   "metadata": {},
   "outputs": [
    {
     "name": "stderr",
     "output_type": "stream",
     "text": [
      "C:\\Users\\КЫРГЫЗ\\AppData\\Local\\Programs\\Python\\Python311\\Lib\\site-packages\\sklearn\\decomposition\\_nmf.py:1710: ConvergenceWarning: Maximum number of iterations 200 reached. Increase it to improve convergence.\n",
      "  warnings.warn(\n"
     ]
    }
   ],
   "source": [
    "# decompose\n",
    "model = NMF(n_components=N_FACTOR, init='random', random_state=RANDOM_STATE)\n",
    "user_mat = model.fit_transform(rating_mat)\n",
    "movie_mat = model.components_.T"
   ]
  },
  {
   "cell_type": "markdown",
   "metadata": {},
   "source": [
    "> **NMF** = Non-negative Matrix Factorization. Можно применять метод чередующихся наименьших квадратов (ALS) для неотрицательного матричного разложения. Ключевая идея - искать поочередно то столбцы $p_t$, то столбцы $q_t$ при фиксированных остальных."
   ]
  },
  {
   "cell_type": "code",
   "execution_count": 50,
   "metadata": {},
   "outputs": [],
   "source": [
    "# indexing\n",
    "# movie_index = faiss.IndexFlatL2(N_FACTOR)\n",
    "\n",
    "########################\n",
    "# YOUR CODE HERE\n",
    "########################\n",
    "k = 100 # количество центроидов\n",
    "# необходимо дописать методы\n",
    "quantiser = faiss.IndexFlatL2(N_FACTOR)\n",
    "movie_index = faiss.IndexIVFFlat(quantiser, N_FACTOR, k) \n",
    "movie_index.train(movie_mat.astype('float32'))\n",
    "movie_index.add(movie_mat.astype('float32')) "
   ]
  },
  {
   "cell_type": "code",
   "execution_count": 51,
   "metadata": {},
   "outputs": [],
   "source": [
    "# create app\n",
    "app = Flask(__name__)"
   ]
  },
  {
   "cell_type": "code",
   "execution_count": 52,
   "metadata": {},
   "outputs": [],
   "source": [
    "# API endpoint\n",
    "@app.route('/')\n",
    "def recom_for_user():\n",
    "    user_id = request.args.get('user_id', default = 1, type = int)\n",
    "    user_i = user_id2i[user_id]\n",
    "    \n",
    "    ########################\n",
    "    # YOUR CODE HERE\n",
    "    ########################\n",
    "    # необходимо определить вектор пользователя (пользовательский эмбединг) и найти ближайшие к этому вектору индексы из фильмов\n",
    "    user_vec = user_mat[user_i].astype('float32')\n",
    "    scores, indices = movie_index.search(np.array([user_vec]), N_RESULT)\n",
    "    \n",
    "    \n",
    "    movie_scores = zip(indices[0], scores[0])\n",
    "    return jsonify(\n",
    "        movies=[\n",
    "            {\n",
    "                \"id\": int(movie_i2id[i]),\n",
    "                \"score\": float(s),\n",
    "            }\n",
    "            for i, s in movie_scores\n",
    "        ],\n",
    "    )"
   ]
  },
  {
   "cell_type": "code",
   "execution_count": null,
   "metadata": {},
   "outputs": [
    {
     "name": "stdout",
     "output_type": "stream",
     "text": [
      " * Serving Flask app '__main__'\n",
      " * Debug mode: off\n"
     ]
    },
    {
     "name": "stderr",
     "output_type": "stream",
     "text": [
      "WARNING: This is a development server. Do not use it in a production deployment. Use a production WSGI server instead.\n",
      " * Running on all addresses (0.0.0.0)\n",
      " * Running on http://127.0.0.1:5000\n",
      " * Running on http://192.168.31.181:5000\n",
      "Press CTRL+C to quit\n",
      "127.0.0.1 - - [27/Sep/2023 19:44:13] \"GET / HTTP/1.1\" 200 -\n",
      "127.0.0.1 - - [27/Sep/2023 19:44:42] \"GET /user_id=128 HTTP/1.1\" 404 -\n"
     ]
    }
   ],
   "source": [
    "app.run(host=\"0.0.0.0\", port=5000)"
   ]
  },
  {
   "cell_type": "markdown",
   "metadata": {},
   "source": [
    "> Note: use this link in your browser to acccess your server: http://0.0.0.0:5000/?user_id=128"
   ]
  }
 ],
 "metadata": {
  "kernelspec": {
   "display_name": "Python 3 (ipykernel)",
   "language": "python",
   "name": "python3"
  },
  "language_info": {
   "codemirror_mode": {
    "name": "ipython",
    "version": 3
   },
   "file_extension": ".py",
   "mimetype": "text/x-python",
   "name": "python",
   "nbconvert_exporter": "python",
   "pygments_lexer": "ipython3",
   "version": "3.11.2"
  }
 },
 "nbformat": 4,
 "nbformat_minor": 4
}
